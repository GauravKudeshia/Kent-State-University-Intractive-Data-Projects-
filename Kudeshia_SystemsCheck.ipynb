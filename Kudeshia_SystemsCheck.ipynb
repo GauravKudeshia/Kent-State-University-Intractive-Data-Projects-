{
 "cells": [
  {
   "cell_type": "markdown",
   "id": "0e0ba413",
   "metadata": {},
   "source": [
    "**My Goals for This Class**\n",
    "\n",
    "*Objectives*\n",
    "\n",
    "\n",
    "# Installing python\n",
    "\n",
    "## Running code on jupyter\n",
    "\n",
    "* Understanding features of jupyter such as how to convert a Code Cell to a Markdown Cell, how to make characters     into markdown cell bold and italics text. \n",
    "\n",
    "- Assigning variable, using a for loop and a function with a print statement and a return statement.\n",
    "  "
   ]
  },
  {
   "cell_type": "markdown",
   "id": "be4e6ceb",
   "metadata": {},
   "source": [
    "[links](https://www.kent.edu/financialaid/2024-2025-fafsa)"
   ]
  },
  {
   "cell_type": "code",
   "execution_count": 1,
   "id": "aab8712e",
   "metadata": {},
   "outputs": [],
   "source": [
    "x = 5"
   ]
  },
  {
   "cell_type": "code",
   "execution_count": 2,
   "id": "bcc75848",
   "metadata": {},
   "outputs": [
    {
     "data": {
      "text/plain": [
       "5"
      ]
     },
     "execution_count": 2,
     "metadata": {},
     "output_type": "execute_result"
    }
   ],
   "source": [
    "x"
   ]
  },
  {
   "cell_type": "code",
   "execution_count": 3,
   "id": "b5b69eac",
   "metadata": {},
   "outputs": [
    {
     "name": "stdout",
     "output_type": "stream",
     "text": [
      "1\n",
      "2\n",
      "3\n",
      "4\n"
     ]
    }
   ],
   "source": [
    "for i in [1,2,3,4]:\n",
    "    print(i)"
   ]
  },
  {
   "cell_type": "code",
   "execution_count": 4,
   "id": "042d643e",
   "metadata": {},
   "outputs": [
    {
     "name": "stdout",
     "output_type": "stream",
     "text": [
      "5\n"
     ]
    }
   ],
   "source": [
    "for i in [x]:\n",
    "    print(i)"
   ]
  },
  {
   "cell_type": "code",
   "execution_count": 5,
   "id": "848164d9",
   "metadata": {},
   "outputs": [],
   "source": [
    "def say_hello(x):\n",
    "    print(\"Hello \"+ str(x) + \"!\")"
   ]
  },
  {
   "cell_type": "code",
   "execution_count": 6,
   "id": "ede360dd",
   "metadata": {},
   "outputs": [
    {
     "name": "stdout",
     "output_type": "stream",
     "text": [
      "Hello Gaurav!\n"
     ]
    }
   ],
   "source": [
    "say_hello(\"Gaurav\")"
   ]
  },
  {
   "cell_type": "code",
   "execution_count": 7,
   "id": "9f80ee28",
   "metadata": {},
   "outputs": [],
   "source": [
    "def return_hello(x):\n",
    "    y=\"hello\"+x\n",
    "    return y"
   ]
  },
  {
   "cell_type": "code",
   "execution_count": 8,
   "id": "e57eb924",
   "metadata": {},
   "outputs": [],
   "source": [
    "greetings = return_hello(\" Gaurav\")"
   ]
  },
  {
   "cell_type": "code",
   "execution_count": 9,
   "id": "02a5536a",
   "metadata": {},
   "outputs": [
    {
     "data": {
      "text/plain": [
       "'hello Gaurav'"
      ]
     },
     "execution_count": 9,
     "metadata": {},
     "output_type": "execute_result"
    }
   ],
   "source": [
    "greetings"
   ]
  }
 ],
 "metadata": {
  "kernelspec": {
   "display_name": "Python 3 (ipykernel)",
   "language": "python",
   "name": "python3"
  },
  "language_info": {
   "codemirror_mode": {
    "name": "ipython",
    "version": 3
   },
   "file_extension": ".py",
   "mimetype": "text/x-python",
   "name": "python",
   "nbconvert_exporter": "python",
   "pygments_lexer": "ipython3",
   "version": "3.10.9"
  }
 },
 "nbformat": 4,
 "nbformat_minor": 5
}
